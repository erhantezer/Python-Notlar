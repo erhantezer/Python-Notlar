{
 "cells": [
  {
   "cell_type": "markdown",
   "id": "1cdc1a61",
   "metadata": {},
   "source": [
    "# Built- in Functions"
   ]
  },
  {
   "cell_type": "markdown",
   "id": "4ace6aee",
   "metadata": {},
   "source": [
    "## abs(x)\n",
    "- Bir sayının mutlak değerini döndürür. Argüman bir tamsayı, kayan noktalı bir sayı veya __abs__() uygulayan bir nesne olabilir. Argüman karmaşık bir sayıysa, büyüklüğü döndürülür."
   ]
  },
  {
   "cell_type": "code",
   "execution_count": 1,
   "id": "5ff8a556",
   "metadata": {},
   "outputs": [
    {
     "data": {
      "text/plain": [
       "4"
      ]
     },
     "execution_count": 1,
     "metadata": {},
     "output_type": "execute_result"
    }
   ],
   "source": [
    "abs(-4)"
   ]
  },
  {
   "cell_type": "code",
   "execution_count": 2,
   "id": "86db0794",
   "metadata": {},
   "outputs": [
    {
     "name": "stdout",
     "output_type": "stream",
     "text": [
      "20\n"
     ]
    }
   ],
   "source": [
    "a = -20\n",
    "print(abs(a))"
   ]
  },
  {
   "cell_type": "code",
   "execution_count": 3,
   "id": "e01b33ec",
   "metadata": {
    "scrolled": true
   },
   "outputs": [
    {
     "data": {
      "text/plain": [
       "5.0"
      ]
     },
     "execution_count": 3,
     "metadata": {},
     "output_type": "execute_result"
    }
   ],
   "source": [
    "abs(3+4j)"
   ]
  },
  {
   "cell_type": "code",
   "execution_count": null,
   "id": "b0127bca",
   "metadata": {},
   "outputs": [],
   "source": []
  },
  {
   "cell_type": "markdown",
   "id": "5d0627ec",
   "metadata": {},
   "source": [
    "## aiter(async_iterable)\n",
    "- Eşzamansız bir yinelenebilir için eşzamansız bir yineleyici döndürün. x.__aiter__() çağrısına eşdeğerdir.\n",
    "\n",
    "Not: iter()'den farklı olarak aiter()'in 2 bağımsız değişkenli bir varyantı yoktur."
   ]
  },
  {
   "cell_type": "code",
   "execution_count": null,
   "id": "a96e85a7",
   "metadata": {},
   "outputs": [],
   "source": []
  },
  {
   "cell_type": "markdown",
   "id": "a1d082c1",
   "metadata": {},
   "source": [
    "## all(iterable)\n",
    "- Yinelenebilir öğenin tüm öğeleri doğruysa (veya yinelenebilir öğe boşsa) True döndürün."
   ]
  },
  {
   "cell_type": "code",
   "execution_count": 4,
   "id": "62e7fe09",
   "metadata": {},
   "outputs": [
    {
     "data": {
      "text/plain": [
       "True"
      ]
     },
     "execution_count": 4,
     "metadata": {},
     "output_type": "execute_result"
    }
   ],
   "source": [
    "x = {}\n",
    "all(x)"
   ]
  },
  {
   "cell_type": "code",
   "execution_count": 5,
   "id": "35112946",
   "metadata": {},
   "outputs": [
    {
     "data": {
      "text/plain": [
       "False"
      ]
     },
     "execution_count": 5,
     "metadata": {},
     "output_type": "execute_result"
    }
   ],
   "source": [
    "y = [1,2,3,0]\n",
    "all(y)"
   ]
  },
  {
   "cell_type": "code",
   "execution_count": 6,
   "id": "c4b736b9",
   "metadata": {
    "scrolled": true
   },
   "outputs": [
    {
     "data": {
      "text/plain": [
       "False"
      ]
     },
     "execution_count": 6,
     "metadata": {},
     "output_type": "execute_result"
    }
   ],
   "source": [
    "z = [1,2,3,{}]\n",
    "all(z)"
   ]
  },
  {
   "cell_type": "code",
   "execution_count": 7,
   "id": "da694d88",
   "metadata": {},
   "outputs": [
    {
     "data": {
      "text/plain": [
       "True"
      ]
     },
     "execution_count": 7,
     "metadata": {},
     "output_type": "execute_result"
    }
   ],
   "source": [
    "k =(1, 2, 3, -5)\n",
    "all(k)"
   ]
  },
  {
   "cell_type": "code",
   "execution_count": null,
   "id": "a0252c8a",
   "metadata": {},
   "outputs": [],
   "source": []
  },
  {
   "cell_type": "markdown",
   "id": "2d7114e1",
   "metadata": {},
   "source": [
    "## any(iterable)\n",
    "- Yinelenebilir öğenin herhangi bir öğesi doğruysa True döndürün. Yinelenebilir boşsa, False döndürün"
   ]
  },
  {
   "cell_type": "code",
   "execution_count": 8,
   "id": "7472873d",
   "metadata": {},
   "outputs": [
    {
     "data": {
      "text/plain": [
       "False"
      ]
     },
     "execution_count": 8,
     "metadata": {},
     "output_type": "execute_result"
    }
   ],
   "source": [
    "m = ()\n",
    "any(m)"
   ]
  },
  {
   "cell_type": "code",
   "execution_count": 9,
   "id": "405df44c",
   "metadata": {},
   "outputs": [
    {
     "data": {
      "text/plain": [
       "True"
      ]
     },
     "execution_count": 9,
     "metadata": {},
     "output_type": "execute_result"
    }
   ],
   "source": [
    "a = (1, 0, (), False)\n",
    "any(a)"
   ]
  },
  {
   "cell_type": "markdown",
   "id": "c5ac5d67",
   "metadata": {},
   "source": [
    "# ascii()\n",
    "- Bu fonksiyon, bir nesnenin ekrana basılabilir halini verir bize.\n",
    "- Ayrıca bu fonksiyon, karakter dizileri içindeki Türkçe karakterlerin de UNICODE temsillerini döndürür."
   ]
  },
  {
   "cell_type": "code",
   "execution_count": 10,
   "id": "b6278135",
   "metadata": {},
   "outputs": [
    {
     "name": "stdout",
     "output_type": "stream",
     "text": [
      "'\\n'\n"
     ]
    }
   ],
   "source": [
    "print(ascii(\"\\n\"))"
   ]
  },
  {
   "cell_type": "code",
   "execution_count": 11,
   "id": "f8fa64a2",
   "metadata": {},
   "outputs": [
    {
     "name": "stdout",
     "output_type": "stream",
     "text": [
      "'\\u0131\\u015f\\u0131k'\n"
     ]
    }
   ],
   "source": [
    "a = \"ışık\"\n",
    "print(ascii(a))"
   ]
  },
  {
   "cell_type": "code",
   "execution_count": null,
   "id": "a0a15591",
   "metadata": {},
   "outputs": [],
   "source": []
  },
  {
   "cell_type": "markdown",
   "id": "cac600d7",
   "metadata": {},
   "source": [
    "## bin(x)\n",
    "- Bir tamsayıyı, ön eki \"0b\" olan ikili bir dizeye dönüştürün. Sonuç, geçerli bir Python ifadesidir. x bir Python int nesnesi değilse, bir tamsayı döndüren bir __index__() yöntemi tanımlaması gerekir."
   ]
  },
  {
   "cell_type": "code",
   "execution_count": 10,
   "id": "02805a6a",
   "metadata": {},
   "outputs": [
    {
     "data": {
      "text/plain": [
       "'0b11'"
      ]
     },
     "execution_count": 10,
     "metadata": {},
     "output_type": "execute_result"
    }
   ],
   "source": [
    "bin(3)"
   ]
  },
  {
   "cell_type": "code",
   "execution_count": 11,
   "id": "8c1fbbbf",
   "metadata": {},
   "outputs": [
    {
     "data": {
      "text/plain": [
       "'-0b1011'"
      ]
     },
     "execution_count": 11,
     "metadata": {},
     "output_type": "execute_result"
    }
   ],
   "source": [
    "bin(-11)"
   ]
  },
  {
   "cell_type": "code",
   "execution_count": null,
   "id": "fa0979ae",
   "metadata": {},
   "outputs": [],
   "source": []
  },
  {
   "cell_type": "markdown",
   "id": "fcb41b5c",
   "metadata": {},
   "source": [
    "## class bool([x])\n",
    "- Bir Boole değeri, yani True veya False değerlerinden birini döndürün. x, standart doğruluk testi prosedürü kullanılarak dönüştürülür. x yanlışsa veya atlanırsa, bu False değerini döndürür; aksi takdirde True döndürür. bool sınıfı, int'nin bir alt sınıfıdır. Daha fazla alt sınıflanamaz. Tek örnekleri False ve True'dur."
   ]
  },
  {
   "cell_type": "code",
   "execution_count": 12,
   "id": "cfc76aa1",
   "metadata": {},
   "outputs": [
    {
     "data": {
      "text/plain": [
       "False"
      ]
     },
     "execution_count": 12,
     "metadata": {},
     "output_type": "execute_result"
    }
   ],
   "source": [
    "bool(0)"
   ]
  },
  {
   "cell_type": "code",
   "execution_count": 13,
   "id": "39339c85",
   "metadata": {},
   "outputs": [
    {
     "data": {
      "text/plain": [
       "True"
      ]
     },
     "execution_count": 13,
     "metadata": {},
     "output_type": "execute_result"
    }
   ],
   "source": [
    "bool(2)"
   ]
  },
  {
   "cell_type": "code",
   "execution_count": 14,
   "id": "6cdc37eb",
   "metadata": {},
   "outputs": [
    {
     "data": {
      "text/plain": [
       "True"
      ]
     },
     "execution_count": 14,
     "metadata": {},
     "output_type": "execute_result"
    }
   ],
   "source": [
    "bool([1, 2, 3, 0])"
   ]
  },
  {
   "cell_type": "code",
   "execution_count": null,
   "id": "58147abb",
   "metadata": {},
   "outputs": [],
   "source": []
  },
  {
   "cell_type": "markdown",
   "id": "dc705df7",
   "metadata": {},
   "source": [
    "## breakpoint(*args, **kws)\n",
    "- breakpoint() fonksiyonu çağrıldığında Python\n",
    "    hata ayıklama moduna girmekte ve konsolda aşağıdaki\n",
    "    sonuç  çıktılanmaktadır.\n",
    "    \n",
    "    Output:\n",
    "        > c:\\users\\python\\pycharmprojects\\testproject\\test.py(10)<module>()\n",
    "        -> print('Sayıların Toplamı = 36')\n",
    "        (Pdb) "
   ]
  },
  {
   "cell_type": "code",
   "execution_count": 16,
   "id": "3bd8995b",
   "metadata": {},
   "outputs": [
    {
     "name": "stdout",
     "output_type": "stream",
     "text": [
      "Sayıların Toplamı = 36\n"
     ]
    }
   ],
   "source": [
    "x = 12\n",
    "y = 12\n",
    "z = 12\n",
    "\n",
    "if (x + y + z == 36):\n",
    "    breakpoint()\n",
    "    print('Sayıların Toplamı = 36')"
   ]
  },
  {
   "cell_type": "code",
   "execution_count": null,
   "id": "d0f87f44",
   "metadata": {},
   "outputs": [],
   "source": []
  },
  {
   "cell_type": "markdown",
   "id": "06c4df8d",
   "metadata": {},
   "source": [
    "## class bytearray([source[, encoding[, errors]]])\n",
    "- Yeni bir bayt dizisi döndürün. Bytearray sınıfı, 0 <= x < 256 aralığında değişken bir tamsayı dizisidir. Mutable Sequence Types'da açıklanan değişebilen dizilerin olağan yöntemlerinin çoğuna ve ayrıca bayt türünün sahip olduğu çoğu yönteme sahiptir"
   ]
  },
  {
   "cell_type": "code",
   "execution_count": 17,
   "id": "e586ed7e",
   "metadata": {},
   "outputs": [
    {
     "name": "stdout",
     "output_type": "stream",
     "text": [
      "bytearray(b'Python harikadiA')\n"
     ]
    }
   ],
   "source": [
    "string = \"Python harikadir\"\n",
    "ba = bytearray(string, encoding=\"ascii\")\n",
    "ba[15] = 65\n",
    "print(ba)"
   ]
  },
  {
   "cell_type": "code",
   "execution_count": 18,
   "id": "c5ab0c8d",
   "metadata": {},
   "outputs": [
    {
     "name": "stdout",
     "output_type": "stream",
     "text": [
      "bytearray(b'\\x00\\x00\\x00\\x00\\x00')\n"
     ]
    }
   ],
   "source": [
    "i = 5\n",
    "ba = bytearray(i)\n",
    "print(ba)"
   ]
  },
  {
   "cell_type": "code",
   "execution_count": 19,
   "id": "dc7395dd",
   "metadata": {},
   "outputs": [
    {
     "name": "stdout",
     "output_type": "stream",
     "text": [
      "bytearray(b'\\x01\\x02\\x03')\n"
     ]
    }
   ],
   "source": [
    "arr = [1, 2, 3]\n",
    "ba = bytearray(arr)\n",
    "print(ba)"
   ]
  },
  {
   "cell_type": "code",
   "execution_count": null,
   "id": "dee7508b",
   "metadata": {},
   "outputs": [],
   "source": []
  },
  {
   "cell_type": "markdown",
   "id": "b535ff52",
   "metadata": {},
   "source": [
    "## class bytes([source[, encoding[, errors]]])\n",
    "- 0 <= x < 256 aralığında değişmez bir tamsayı dizisi olan yeni bir \"bayt\" nesnesi döndürün. bayt, bayt dizisinin değişmez bir sürümüdür - aynı mutasyona uğramayan yöntemlere ve aynı dizin oluşturma ve dilimleme davranışına sahiptir."
   ]
  },
  {
   "cell_type": "code",
   "execution_count": 20,
   "id": "dc73de16",
   "metadata": {},
   "outputs": [
    {
     "name": "stdout",
     "output_type": "stream",
     "text": [
      "b'Python harikadir'\n"
     ]
    }
   ],
   "source": [
    "string = \"Python harikadir\"\n",
    " \n",
    "ba = bytes(string, encoding=\"ascii\")\n",
    "print(ba)"
   ]
  },
  {
   "cell_type": "code",
   "execution_count": 22,
   "id": "1a6f73cc",
   "metadata": {},
   "outputs": [
    {
     "name": "stdout",
     "output_type": "stream",
     "text": [
      "b'\\x00\\x00\\x00\\x00\\x00'\n"
     ]
    }
   ],
   "source": [
    "i = 5\n",
    "ba = bytes(i)\n",
    "print(ba)"
   ]
  },
  {
   "cell_type": "code",
   "execution_count": null,
   "id": "32913246",
   "metadata": {},
   "outputs": [],
   "source": []
  },
  {
   "cell_type": "markdown",
   "id": "645a0977",
   "metadata": {},
   "source": [
    "https://docs.python.org/3/library/functions.html#aiter"
   ]
  },
  {
   "cell_type": "markdown",
   "id": "9d2a75e5",
   "metadata": {},
   "source": [
    "# callable(object)\n",
    "- Nesne bağımsız değişkeni çağrılabilir görünüyorsa True, değilse False döndürün. \n",
    "- Bu True değerini döndürürse, bir çağrının başarısız olması hala mümkündür, ancak False ise, çağıran nesne asla başarılı olmaz.\n",
    "- Sınıfların çağrılabilir olduğuna dikkat edin (bir sınıfın çağrılması yeni bir örnek döndürür); sınıflarında bir __call__() yöntemi varsa, örnekler çağrılabilir."
   ]
  },
  {
   "cell_type": "markdown",
   "id": "a46913bf",
   "metadata": {},
   "source": [
    "# chr(i)\n",
    "- Unicode kod noktası i tamsayısı olan bir karakteri temsil eden dizeyi döndürün. \n",
    "- Örneğin, chr(97) 'a' dizesini döndürürken chr(8364) '€' dizesini döndürür. Bu, ord()'un tersidir."
   ]
  },
  {
   "cell_type": "code",
   "execution_count": 2,
   "id": "9f15c295",
   "metadata": {},
   "outputs": [
    {
     "data": {
      "text/plain": [
       "'b'"
      ]
     },
     "execution_count": 2,
     "metadata": {},
     "output_type": "execute_result"
    }
   ],
   "source": [
    "chr(98)"
   ]
  },
  {
   "cell_type": "code",
   "execution_count": 3,
   "id": "f2ac3050",
   "metadata": {},
   "outputs": [
    {
     "data": {
      "text/plain": [
       "'B'"
      ]
     },
     "execution_count": 3,
     "metadata": {},
     "output_type": "execute_result"
    }
   ],
   "source": [
    "chr(66)"
   ]
  },
  {
   "cell_type": "markdown",
   "id": "c110ad41",
   "metadata": {},
   "source": [
    "# @classmethod\n",
    "- Bir yöntemi sınıf yöntemine dönüştürün\n",
    "- 3.10 sürümünde asılı kaldı: Sınıf yöntemleri artık yöntem niteliklerini (__module__, __name__, __qualname__, __doc__ ve __annotations__) devralıyor ve yeni bir __wrapped__ niteliğine sahip."
   ]
  },
  {
   "cell_type": "code",
   "execution_count": 4,
   "id": "68bf766a",
   "metadata": {},
   "outputs": [
    {
     "ename": "IndentationError",
     "evalue": "expected an indented block (1056210665.py, line 3)",
     "output_type": "error",
     "traceback": [
      "\u001b[1;36m  Input \u001b[1;32mIn [4]\u001b[1;36m\u001b[0m\n\u001b[1;33m    def f(cls, arg1, arg2):\u001b[0m\n\u001b[1;37m                           ^\u001b[0m\n\u001b[1;31mIndentationError\u001b[0m\u001b[1;31m:\u001b[0m expected an indented block\n"
     ]
    }
   ],
   "source": [
    "class C:\n",
    "    @classmethod\n",
    "    def f(cls, arg1, arg2):"
   ]
  },
  {
   "cell_type": "markdown",
   "id": "d7184c37",
   "metadata": {},
   "source": [
    "# round()\n",
    "- round() fonksiyonu bir sayıyı belirli ölçütlere göre yukarı veya aşağı doğru yuvarlamamızı sağlar."
   ]
  },
  {
   "cell_type": "code",
   "execution_count": 6,
   "id": "f701d22c",
   "metadata": {},
   "outputs": [
    {
     "data": {
      "text/plain": [
       "12"
      ]
     },
     "execution_count": 6,
     "metadata": {},
     "output_type": "execute_result"
    }
   ],
   "source": [
    "round(12.4)"
   ]
  },
  {
   "cell_type": "code",
   "execution_count": 7,
   "id": "2886046a",
   "metadata": {},
   "outputs": [
    {
     "data": {
      "text/plain": [
       "13"
      ]
     },
     "execution_count": 7,
     "metadata": {},
     "output_type": "execute_result"
    }
   ],
   "source": [
    "round(12.6)"
   ]
  },
  {
   "cell_type": "code",
   "execution_count": 8,
   "id": "5c7bc214",
   "metadata": {},
   "outputs": [
    {
     "data": {
      "text/plain": [
       "2"
      ]
     },
     "execution_count": 8,
     "metadata": {},
     "output_type": "execute_result"
    }
   ],
   "source": [
    "round(1.5)"
   ]
  },
  {
   "cell_type": "code",
   "execution_count": 9,
   "id": "e05033ad",
   "metadata": {},
   "outputs": [
    {
     "data": {
      "text/plain": [
       "2"
      ]
     },
     "execution_count": 9,
     "metadata": {},
     "output_type": "execute_result"
    }
   ],
   "source": [
    "round(12/7)"
   ]
  },
  {
   "cell_type": "markdown",
   "id": "c645bb27",
   "metadata": {},
   "source": [
    "# repr()\n",
    "- Bu fonksiyon ASCII olmayan karakterlerle karşılaşsa bile, bize çıktı olarak bunların da karakter karşılıklarını gösterir."
   ]
  },
  {
   "cell_type": "code",
   "execution_count": 12,
   "id": "7c0856c4",
   "metadata": {},
   "outputs": [
    {
     "data": {
      "text/plain": [
       "\"'şeker'\""
      ]
     },
     "execution_count": 12,
     "metadata": {},
     "output_type": "execute_result"
    }
   ],
   "source": [
    "repr(\"şeker\")"
   ]
  },
  {
   "cell_type": "markdown",
   "id": "49932fcd",
   "metadata": {},
   "source": [
    "# list()\n",
    "- Bu fonksiyon iki farklı amaç için kullanılabilir\n",
    "\n",
    "1. Liste tipinde bir veri oluşturmak\n",
    "\n",
    "2. Farklı veri tiplerini liste adlı veri tipine dönüştürmek"
   ]
  },
  {
   "cell_type": "code",
   "execution_count": 13,
   "id": "61411436",
   "metadata": {},
   "outputs": [],
   "source": [
    "i =list()"
   ]
  },
  {
   "cell_type": "code",
   "execution_count": 14,
   "id": "5fa78ae9",
   "metadata": {},
   "outputs": [
    {
     "data": {
      "text/plain": [
       "['e', 'r', 'h', 'a', 'n']"
      ]
     },
     "execution_count": 14,
     "metadata": {},
     "output_type": "execute_result"
    }
   ],
   "source": [
    "list(\"erhan\")"
   ]
  },
  {
   "cell_type": "code",
   "execution_count": 15,
   "id": "e87be282",
   "metadata": {},
   "outputs": [
    {
     "data": {
      "text/plain": [
       "['elma', 'armut', 'erik']"
      ]
     },
     "execution_count": 15,
     "metadata": {},
     "output_type": "execute_result"
    }
   ],
   "source": [
    "s = {'elma': 44, 'armut': 10, 'erik': 100}\n",
    "list(s)"
   ]
  },
  {
   "cell_type": "code",
   "execution_count": 18,
   "id": "fd6b1b17",
   "metadata": {},
   "outputs": [
    {
     "data": {
      "text/plain": [
       "[44, 10, 100]"
      ]
     },
     "execution_count": 18,
     "metadata": {},
     "output_type": "execute_result"
    }
   ],
   "source": [
    "list(s.values())"
   ]
  },
  {
   "cell_type": "markdown",
   "id": "f7521766",
   "metadata": {},
   "source": [
    "# set()\n",
    "- küme işlemleri ve dönüşümleri yapar."
   ]
  },
  {
   "cell_type": "code",
   "execution_count": 19,
   "id": "82382af5",
   "metadata": {},
   "outputs": [],
   "source": [
    "k =set()"
   ]
  },
  {
   "cell_type": "code",
   "execution_count": 20,
   "id": "4b127000",
   "metadata": {},
   "outputs": [
    {
     "data": {
      "text/plain": [
       "{'e', 'r', 't', 'z'}"
      ]
     },
     "execution_count": 20,
     "metadata": {},
     "output_type": "execute_result"
    }
   ],
   "source": [
    "a = \"tezer\"\n",
    "set(a)"
   ]
  },
  {
   "cell_type": "markdown",
   "id": "32abe225",
   "metadata": {},
   "source": [
    "# tuple()\n",
    "- Bu fonksiyon farklı veri tiplerini demete dönüştürür:"
   ]
  },
  {
   "cell_type": "code",
   "execution_count": 21,
   "id": "7fcfa5e8",
   "metadata": {},
   "outputs": [],
   "source": [
    "j=tuple()"
   ]
  },
  {
   "cell_type": "code",
   "execution_count": 22,
   "id": "b2206a89",
   "metadata": {},
   "outputs": [
    {
     "data": {
      "text/plain": [
       "('a',)"
      ]
     },
     "execution_count": 22,
     "metadata": {},
     "output_type": "execute_result"
    }
   ],
   "source": [
    "tuple(\"a\")"
   ]
  },
  {
   "cell_type": "markdown",
   "id": "673bab35",
   "metadata": {},
   "source": [
    "https://python-istihza.yazbel.com/gomulu_fonksiyonlar.html"
   ]
  },
  {
   "cell_type": "code",
   "execution_count": null,
   "id": "a7aebc68",
   "metadata": {},
   "outputs": [],
   "source": []
  },
  {
   "cell_type": "code",
   "execution_count": null,
   "id": "5b60fb0e",
   "metadata": {},
   "outputs": [],
   "source": []
  },
  {
   "cell_type": "code",
   "execution_count": null,
   "id": "ec278562",
   "metadata": {},
   "outputs": [],
   "source": []
  },
  {
   "cell_type": "code",
   "execution_count": null,
   "id": "59ff8b13",
   "metadata": {},
   "outputs": [],
   "source": []
  },
  {
   "cell_type": "code",
   "execution_count": null,
   "id": "8de48edf",
   "metadata": {},
   "outputs": [],
   "source": []
  },
  {
   "cell_type": "code",
   "execution_count": null,
   "id": "2f4926f9",
   "metadata": {},
   "outputs": [],
   "source": []
  },
  {
   "cell_type": "code",
   "execution_count": null,
   "id": "600da0e4",
   "metadata": {},
   "outputs": [],
   "source": []
  },
  {
   "cell_type": "code",
   "execution_count": null,
   "id": "26715d4c",
   "metadata": {},
   "outputs": [],
   "source": []
  },
  {
   "cell_type": "code",
   "execution_count": null,
   "id": "dedba8cc",
   "metadata": {},
   "outputs": [],
   "source": []
  },
  {
   "cell_type": "code",
   "execution_count": null,
   "id": "5fd40f60",
   "metadata": {},
   "outputs": [],
   "source": []
  },
  {
   "cell_type": "code",
   "execution_count": null,
   "id": "df5f2a85",
   "metadata": {},
   "outputs": [],
   "source": []
  },
  {
   "cell_type": "code",
   "execution_count": null,
   "id": "d44e5166",
   "metadata": {},
   "outputs": [],
   "source": []
  },
  {
   "cell_type": "code",
   "execution_count": null,
   "id": "0ae56063",
   "metadata": {},
   "outputs": [],
   "source": []
  },
  {
   "cell_type": "code",
   "execution_count": null,
   "id": "d56cb957",
   "metadata": {},
   "outputs": [],
   "source": []
  },
  {
   "cell_type": "code",
   "execution_count": null,
   "id": "3a2b57c4",
   "metadata": {},
   "outputs": [],
   "source": []
  },
  {
   "cell_type": "code",
   "execution_count": null,
   "id": "c1dab12d",
   "metadata": {},
   "outputs": [],
   "source": []
  },
  {
   "cell_type": "code",
   "execution_count": null,
   "id": "aceaf48d",
   "metadata": {},
   "outputs": [],
   "source": []
  },
  {
   "cell_type": "code",
   "execution_count": null,
   "id": "8ab89024",
   "metadata": {},
   "outputs": [],
   "source": []
  },
  {
   "cell_type": "code",
   "execution_count": null,
   "id": "6b229688",
   "metadata": {},
   "outputs": [],
   "source": []
  },
  {
   "cell_type": "code",
   "execution_count": null,
   "id": "b964220f",
   "metadata": {},
   "outputs": [],
   "source": []
  },
  {
   "cell_type": "code",
   "execution_count": null,
   "id": "12c0a60c",
   "metadata": {},
   "outputs": [],
   "source": []
  },
  {
   "cell_type": "code",
   "execution_count": null,
   "id": "2b780e9d",
   "metadata": {},
   "outputs": [],
   "source": []
  },
  {
   "cell_type": "code",
   "execution_count": null,
   "id": "3b2bcbf3",
   "metadata": {},
   "outputs": [],
   "source": []
  },
  {
   "cell_type": "code",
   "execution_count": null,
   "id": "5a1dfb5f",
   "metadata": {},
   "outputs": [],
   "source": []
  },
  {
   "cell_type": "code",
   "execution_count": null,
   "id": "668434c3",
   "metadata": {},
   "outputs": [],
   "source": []
  },
  {
   "cell_type": "code",
   "execution_count": null,
   "id": "46b14cea",
   "metadata": {},
   "outputs": [],
   "source": []
  },
  {
   "cell_type": "code",
   "execution_count": null,
   "id": "4db6d595",
   "metadata": {},
   "outputs": [],
   "source": []
  },
  {
   "cell_type": "code",
   "execution_count": null,
   "id": "1793bd10",
   "metadata": {},
   "outputs": [],
   "source": []
  },
  {
   "cell_type": "code",
   "execution_count": null,
   "id": "7f6d9205",
   "metadata": {},
   "outputs": [],
   "source": []
  },
  {
   "cell_type": "code",
   "execution_count": null,
   "id": "1ab62a2c",
   "metadata": {},
   "outputs": [],
   "source": []
  },
  {
   "cell_type": "code",
   "execution_count": null,
   "id": "579ca215",
   "metadata": {},
   "outputs": [],
   "source": []
  },
  {
   "cell_type": "code",
   "execution_count": null,
   "id": "3c0f9cff",
   "metadata": {},
   "outputs": [],
   "source": []
  },
  {
   "cell_type": "code",
   "execution_count": null,
   "id": "9cd1197d",
   "metadata": {},
   "outputs": [],
   "source": []
  },
  {
   "cell_type": "code",
   "execution_count": null,
   "id": "eba33c76",
   "metadata": {},
   "outputs": [],
   "source": []
  },
  {
   "cell_type": "code",
   "execution_count": null,
   "id": "64702636",
   "metadata": {},
   "outputs": [],
   "source": []
  },
  {
   "cell_type": "code",
   "execution_count": null,
   "id": "e87fcbd5",
   "metadata": {},
   "outputs": [],
   "source": []
  },
  {
   "cell_type": "code",
   "execution_count": null,
   "id": "34df2982",
   "metadata": {},
   "outputs": [],
   "source": []
  },
  {
   "cell_type": "code",
   "execution_count": null,
   "id": "88a6d824",
   "metadata": {},
   "outputs": [],
   "source": []
  },
  {
   "cell_type": "code",
   "execution_count": null,
   "id": "3bff7ea9",
   "metadata": {},
   "outputs": [],
   "source": []
  },
  {
   "cell_type": "code",
   "execution_count": null,
   "id": "58e71cfc",
   "metadata": {},
   "outputs": [],
   "source": []
  },
  {
   "cell_type": "code",
   "execution_count": null,
   "id": "7b30b0b4",
   "metadata": {},
   "outputs": [],
   "source": []
  },
  {
   "cell_type": "code",
   "execution_count": null,
   "id": "dd4eb4ec",
   "metadata": {},
   "outputs": [],
   "source": []
  },
  {
   "cell_type": "code",
   "execution_count": null,
   "id": "f2165413",
   "metadata": {},
   "outputs": [],
   "source": []
  },
  {
   "cell_type": "code",
   "execution_count": null,
   "id": "c5c536e6",
   "metadata": {},
   "outputs": [],
   "source": []
  },
  {
   "cell_type": "code",
   "execution_count": null,
   "id": "3c3379b8",
   "metadata": {},
   "outputs": [],
   "source": []
  },
  {
   "cell_type": "code",
   "execution_count": null,
   "id": "b14865aa",
   "metadata": {},
   "outputs": [],
   "source": []
  },
  {
   "cell_type": "code",
   "execution_count": null,
   "id": "85fcfc05",
   "metadata": {},
   "outputs": [],
   "source": []
  },
  {
   "cell_type": "code",
   "execution_count": null,
   "id": "8028a971",
   "metadata": {},
   "outputs": [],
   "source": []
  },
  {
   "cell_type": "code",
   "execution_count": null,
   "id": "208677e6",
   "metadata": {},
   "outputs": [],
   "source": []
  },
  {
   "cell_type": "code",
   "execution_count": null,
   "id": "0e718521",
   "metadata": {},
   "outputs": [],
   "source": []
  },
  {
   "cell_type": "code",
   "execution_count": null,
   "id": "36f8c845",
   "metadata": {},
   "outputs": [],
   "source": []
  },
  {
   "cell_type": "code",
   "execution_count": null,
   "id": "89cc86db",
   "metadata": {},
   "outputs": [],
   "source": []
  },
  {
   "cell_type": "code",
   "execution_count": null,
   "id": "59c7851f",
   "metadata": {},
   "outputs": [],
   "source": []
  },
  {
   "cell_type": "code",
   "execution_count": null,
   "id": "1b612607",
   "metadata": {},
   "outputs": [],
   "source": []
  },
  {
   "cell_type": "code",
   "execution_count": null,
   "id": "ee560354",
   "metadata": {},
   "outputs": [],
   "source": []
  },
  {
   "cell_type": "code",
   "execution_count": null,
   "id": "6a4a7f4b",
   "metadata": {},
   "outputs": [],
   "source": []
  },
  {
   "cell_type": "code",
   "execution_count": null,
   "id": "f98e5c2c",
   "metadata": {},
   "outputs": [],
   "source": []
  },
  {
   "cell_type": "code",
   "execution_count": null,
   "id": "fb8e7f7d",
   "metadata": {},
   "outputs": [],
   "source": []
  },
  {
   "cell_type": "code",
   "execution_count": null,
   "id": "a5c5e334",
   "metadata": {},
   "outputs": [],
   "source": []
  },
  {
   "cell_type": "code",
   "execution_count": null,
   "id": "6cce1080",
   "metadata": {},
   "outputs": [],
   "source": []
  },
  {
   "cell_type": "code",
   "execution_count": null,
   "id": "06497c4a",
   "metadata": {},
   "outputs": [],
   "source": []
  },
  {
   "cell_type": "code",
   "execution_count": null,
   "id": "fd67134a",
   "metadata": {},
   "outputs": [],
   "source": []
  },
  {
   "cell_type": "code",
   "execution_count": null,
   "id": "329162e9",
   "metadata": {},
   "outputs": [],
   "source": []
  },
  {
   "cell_type": "code",
   "execution_count": null,
   "id": "a378df2d",
   "metadata": {},
   "outputs": [],
   "source": []
  },
  {
   "cell_type": "code",
   "execution_count": null,
   "id": "7f4bd222",
   "metadata": {},
   "outputs": [],
   "source": []
  },
  {
   "cell_type": "code",
   "execution_count": null,
   "id": "c3c66d1b",
   "metadata": {},
   "outputs": [],
   "source": []
  },
  {
   "cell_type": "code",
   "execution_count": null,
   "id": "f6217ea1",
   "metadata": {},
   "outputs": [],
   "source": []
  },
  {
   "cell_type": "code",
   "execution_count": null,
   "id": "93c0dfed",
   "metadata": {},
   "outputs": [],
   "source": []
  },
  {
   "cell_type": "code",
   "execution_count": null,
   "id": "a7ac99a2",
   "metadata": {},
   "outputs": [],
   "source": []
  },
  {
   "cell_type": "code",
   "execution_count": null,
   "id": "4093cab7",
   "metadata": {},
   "outputs": [],
   "source": []
  },
  {
   "cell_type": "code",
   "execution_count": null,
   "id": "93ca3c6c",
   "metadata": {},
   "outputs": [],
   "source": []
  },
  {
   "cell_type": "code",
   "execution_count": null,
   "id": "c518ab22",
   "metadata": {},
   "outputs": [],
   "source": []
  },
  {
   "cell_type": "code",
   "execution_count": null,
   "id": "8425c4b2",
   "metadata": {},
   "outputs": [],
   "source": []
  },
  {
   "cell_type": "code",
   "execution_count": null,
   "id": "7726ee1c",
   "metadata": {},
   "outputs": [],
   "source": []
  },
  {
   "cell_type": "code",
   "execution_count": null,
   "id": "af0c5c21",
   "metadata": {},
   "outputs": [],
   "source": []
  },
  {
   "cell_type": "code",
   "execution_count": null,
   "id": "9a116e17",
   "metadata": {},
   "outputs": [],
   "source": []
  },
  {
   "cell_type": "code",
   "execution_count": null,
   "id": "d0c2dade",
   "metadata": {},
   "outputs": [],
   "source": []
  },
  {
   "cell_type": "code",
   "execution_count": null,
   "id": "ab29c00b",
   "metadata": {},
   "outputs": [],
   "source": []
  },
  {
   "cell_type": "code",
   "execution_count": null,
   "id": "bccfbb5b",
   "metadata": {},
   "outputs": [],
   "source": []
  },
  {
   "cell_type": "code",
   "execution_count": null,
   "id": "02617389",
   "metadata": {},
   "outputs": [],
   "source": []
  },
  {
   "cell_type": "code",
   "execution_count": null,
   "id": "288ca4f5",
   "metadata": {},
   "outputs": [],
   "source": []
  },
  {
   "cell_type": "code",
   "execution_count": null,
   "id": "58a93147",
   "metadata": {},
   "outputs": [],
   "source": []
  },
  {
   "cell_type": "code",
   "execution_count": null,
   "id": "fbf81ddb",
   "metadata": {},
   "outputs": [],
   "source": []
  },
  {
   "cell_type": "code",
   "execution_count": null,
   "id": "0ae051bd",
   "metadata": {},
   "outputs": [],
   "source": []
  },
  {
   "cell_type": "code",
   "execution_count": null,
   "id": "affdf315",
   "metadata": {},
   "outputs": [],
   "source": []
  }
 ],
 "metadata": {
  "kernelspec": {
   "display_name": "Python 3 (ipykernel)",
   "language": "python",
   "name": "python3"
  },
  "language_info": {
   "codemirror_mode": {
    "name": "ipython",
    "version": 3
   },
   "file_extension": ".py",
   "mimetype": "text/x-python",
   "name": "python",
   "nbconvert_exporter": "python",
   "pygments_lexer": "ipython3",
   "version": "3.9.10"
  }
 },
 "nbformat": 4,
 "nbformat_minor": 5
}
