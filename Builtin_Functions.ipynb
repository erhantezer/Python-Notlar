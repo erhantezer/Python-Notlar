{
 "cells": [
  {
   "cell_type": "markdown",
   "id": "1cdc1a61",
   "metadata": {},
   "source": [
    "# Built- in Functions"
   ]
  },
  {
   "cell_type": "markdown",
   "id": "4ace6aee",
   "metadata": {},
   "source": [
    "## abs(x)\n",
    "- Bir sayının mutlak değerini döndürür. Argüman bir tamsayı, kayan noktalı bir sayı veya __abs__() uygulayan bir nesne olabilir. Argüman karmaşık bir sayıysa, büyüklüğü döndürülür."
   ]
  },
  {
   "cell_type": "code",
   "execution_count": 1,
   "id": "5ff8a556",
   "metadata": {},
   "outputs": [
    {
     "data": {
      "text/plain": [
       "4"
      ]
     },
     "execution_count": 1,
     "metadata": {},
     "output_type": "execute_result"
    }
   ],
   "source": [
    "abs(-4)"
   ]
  },
  {
   "cell_type": "code",
   "execution_count": 2,
   "id": "86db0794",
   "metadata": {},
   "outputs": [
    {
     "name": "stdout",
     "output_type": "stream",
     "text": [
      "20\n"
     ]
    }
   ],
   "source": [
    "a = -20\n",
    "print(abs(a))"
   ]
  },
  {
   "cell_type": "code",
   "execution_count": 3,
   "id": "e01b33ec",
   "metadata": {
    "scrolled": true
   },
   "outputs": [
    {
     "data": {
      "text/plain": [
       "5.0"
      ]
     },
     "execution_count": 3,
     "metadata": {},
     "output_type": "execute_result"
    }
   ],
   "source": [
    "abs(3+4j)"
   ]
  },
  {
   "cell_type": "code",
   "execution_count": null,
   "id": "b0127bca",
   "metadata": {},
   "outputs": [],
   "source": []
  },
  {
   "cell_type": "markdown",
   "id": "5d0627ec",
   "metadata": {},
   "source": [
    "## aiter(async_iterable)\n",
    "- Eşzamansız bir yinelenebilir için eşzamansız bir yineleyici döndürün. x.__aiter__() çağrısına eşdeğerdir.\n",
    "\n",
    "Not: iter()'den farklı olarak aiter()'in 2 bağımsız değişkenli bir varyantı yoktur."
   ]
  },
  {
   "cell_type": "code",
   "execution_count": null,
   "id": "a96e85a7",
   "metadata": {},
   "outputs": [],
   "source": []
  },
  {
   "cell_type": "markdown",
   "id": "a1d082c1",
   "metadata": {},
   "source": [
    "## all(iterable)\n",
    "- Yinelenebilir öğenin tüm öğeleri doğruysa (veya yinelenebilir öğe boşsa) True döndürün."
   ]
  },
  {
   "cell_type": "code",
   "execution_count": 4,
   "id": "62e7fe09",
   "metadata": {},
   "outputs": [
    {
     "data": {
      "text/plain": [
       "True"
      ]
     },
     "execution_count": 4,
     "metadata": {},
     "output_type": "execute_result"
    }
   ],
   "source": [
    "x = {}\n",
    "all(x)"
   ]
  },
  {
   "cell_type": "code",
   "execution_count": 5,
   "id": "35112946",
   "metadata": {},
   "outputs": [
    {
     "data": {
      "text/plain": [
       "False"
      ]
     },
     "execution_count": 5,
     "metadata": {},
     "output_type": "execute_result"
    }
   ],
   "source": [
    "y = [1,2,3,0]\n",
    "all(y)"
   ]
  },
  {
   "cell_type": "code",
   "execution_count": 6,
   "id": "c4b736b9",
   "metadata": {
    "scrolled": true
   },
   "outputs": [
    {
     "data": {
      "text/plain": [
       "False"
      ]
     },
     "execution_count": 6,
     "metadata": {},
     "output_type": "execute_result"
    }
   ],
   "source": [
    "z = [1,2,3,{}]\n",
    "all(z)"
   ]
  },
  {
   "cell_type": "code",
   "execution_count": 7,
   "id": "da694d88",
   "metadata": {},
   "outputs": [
    {
     "data": {
      "text/plain": [
       "True"
      ]
     },
     "execution_count": 7,
     "metadata": {},
     "output_type": "execute_result"
    }
   ],
   "source": [
    "k =(1, 2, 3, -5)\n",
    "all(k)"
   ]
  },
  {
   "cell_type": "code",
   "execution_count": null,
   "id": "a0252c8a",
   "metadata": {},
   "outputs": [],
   "source": []
  },
  {
   "cell_type": "markdown",
   "id": "2d7114e1",
   "metadata": {},
   "source": [
    "## any(iterable)\n",
    "- Yinelenebilir öğenin herhangi bir öğesi doğruysa True döndürün. Yinelenebilir boşsa, False döndürün"
   ]
  },
  {
   "cell_type": "code",
   "execution_count": 8,
   "id": "7472873d",
   "metadata": {},
   "outputs": [
    {
     "data": {
      "text/plain": [
       "False"
      ]
     },
     "execution_count": 8,
     "metadata": {},
     "output_type": "execute_result"
    }
   ],
   "source": [
    "m = ()\n",
    "any(m)"
   ]
  },
  {
   "cell_type": "code",
   "execution_count": 9,
   "id": "405df44c",
   "metadata": {},
   "outputs": [
    {
     "data": {
      "text/plain": [
       "True"
      ]
     },
     "execution_count": 9,
     "metadata": {},
     "output_type": "execute_result"
    }
   ],
   "source": [
    "a = (1, 0, (), False)\n",
    "any(a)"
   ]
  },
  {
   "cell_type": "markdown",
   "id": "c5ac5d67",
   "metadata": {},
   "source": [
    "# ascii()\n",
    "- Bu fonksiyon, bir nesnenin ekrana basılabilir halini verir bize.\n",
    "- Ayrıca bu fonksiyon, karakter dizileri içindeki Türkçe karakterlerin de UNICODE temsillerini döndürür."
   ]
  },
  {
   "cell_type": "code",
   "execution_count": 10,
   "id": "b6278135",
   "metadata": {},
   "outputs": [
    {
     "name": "stdout",
     "output_type": "stream",
     "text": [
      "'\\n'\n"
     ]
    }
   ],
   "source": [
    "print(ascii(\"\\n\"))"
   ]
  },
  {
   "cell_type": "code",
   "execution_count": 11,
   "id": "f8fa64a2",
   "metadata": {},
   "outputs": [
    {
     "name": "stdout",
     "output_type": "stream",
     "text": [
      "'\\u0131\\u015f\\u0131k'\n"
     ]
    }
   ],
   "source": [
    "a = \"ışık\"\n",
    "print(ascii(a))"
   ]
  },
  {
   "cell_type": "code",
   "execution_count": null,
   "id": "a0a15591",
   "metadata": {},
   "outputs": [],
   "source": []
  },
  {
   "cell_type": "markdown",
   "id": "cac600d7",
   "metadata": {},
   "source": [
    "## bin(x)\n",
    "- Bir tamsayıyı, ön eki \"0b\" olan ikili bir dizeye dönüştürün. Sonuç, geçerli bir Python ifadesidir. x bir Python int nesnesi değilse, bir tamsayı döndüren bir __index__() yöntemi tanımlaması gerekir."
   ]
  },
  {
   "cell_type": "code",
   "execution_count": 10,
   "id": "02805a6a",
   "metadata": {},
   "outputs": [
    {
     "data": {
      "text/plain": [
       "'0b11'"
      ]
     },
     "execution_count": 10,
     "metadata": {},
     "output_type": "execute_result"
    }
   ],
   "source": [
    "bin(3)"
   ]
  },
  {
   "cell_type": "code",
   "execution_count": 11,
   "id": "8c1fbbbf",
   "metadata": {},
   "outputs": [
    {
     "data": {
      "text/plain": [
       "'-0b1011'"
      ]
     },
     "execution_count": 11,
     "metadata": {},
     "output_type": "execute_result"
    }
   ],
   "source": [
    "bin(-11)"
   ]
  },
  {
   "cell_type": "code",
   "execution_count": null,
   "id": "fa0979ae",
   "metadata": {},
   "outputs": [],
   "source": []
  },
  {
   "cell_type": "markdown",
   "id": "fcb41b5c",
   "metadata": {},
   "source": [
    "## class bool([x])\n",
    "- Bir Boole değeri, yani True veya False değerlerinden birini döndürün. x, standart doğruluk testi prosedürü kullanılarak dönüştürülür. x yanlışsa veya atlanırsa, bu False değerini döndürür; aksi takdirde True döndürür. bool sınıfı, int'nin bir alt sınıfıdır. Daha fazla alt sınıflanamaz. Tek örnekleri False ve True'dur."
   ]
  },
  {
   "cell_type": "code",
   "execution_count": 12,
   "id": "cfc76aa1",
   "metadata": {},
   "outputs": [
    {
     "data": {
      "text/plain": [
       "False"
      ]
     },
     "execution_count": 12,
     "metadata": {},
     "output_type": "execute_result"
    }
   ],
   "source": [
    "bool(0)"
   ]
  },
  {
   "cell_type": "code",
   "execution_count": 13,
   "id": "39339c85",
   "metadata": {},
   "outputs": [
    {
     "data": {
      "text/plain": [
       "True"
      ]
     },
     "execution_count": 13,
     "metadata": {},
     "output_type": "execute_result"
    }
   ],
   "source": [
    "bool(2)"
   ]
  },
  {
   "cell_type": "code",
   "execution_count": 14,
   "id": "6cdc37eb",
   "metadata": {},
   "outputs": [
    {
     "data": {
      "text/plain": [
       "True"
      ]
     },
     "execution_count": 14,
     "metadata": {},
     "output_type": "execute_result"
    }
   ],
   "source": [
    "bool([1, 2, 3, 0])"
   ]
  },
  {
   "cell_type": "code",
   "execution_count": null,
   "id": "58147abb",
   "metadata": {},
   "outputs": [],
   "source": []
  },
  {
   "cell_type": "markdown",
   "id": "dc705df7",
   "metadata": {},
   "source": [
    "## breakpoint(*args, **kws)\n",
    "- breakpoint() fonksiyonu çağrıldığında Python\n",
    "    hata ayıklama moduna girmekte ve konsolda aşağıdaki\n",
    "    sonuç  çıktılanmaktadır.\n",
    "    \n",
    "    Output:\n",
    "        > c:\\users\\python\\pycharmprojects\\testproject\\test.py(10)<module>()\n",
    "        -> print('Sayıların Toplamı = 36')\n",
    "        (Pdb) "
   ]
  },
  {
   "cell_type": "code",
   "execution_count": 16,
   "id": "3bd8995b",
   "metadata": {},
   "outputs": [
    {
     "name": "stdout",
     "output_type": "stream",
     "text": [
      "Sayıların Toplamı = 36\n"
     ]
    }
   ],
   "source": [
    "x = 12\n",
    "y = 12\n",
    "z = 12\n",
    "\n",
    "if (x + y + z == 36):\n",
    "    breakpoint()\n",
    "    print('Sayıların Toplamı = 36')"
   ]
  },
  {
   "cell_type": "code",
   "execution_count": null,
   "id": "d0f87f44",
   "metadata": {},
   "outputs": [],
   "source": []
  },
  {
   "cell_type": "markdown",
   "id": "06c4df8d",
   "metadata": {},
   "source": [
    "## class bytearray([source[, encoding[, errors]]])\n",
    "- Yeni bir bayt dizisi döndürün. Bytearray sınıfı, 0 <= x < 256 aralığında değişken bir tamsayı dizisidir. Mutable Sequence Types'da açıklanan değişebilen dizilerin olağan yöntemlerinin çoğuna ve ayrıca bayt türünün sahip olduğu çoğu yönteme sahiptir"
   ]
  },
  {
   "cell_type": "code",
   "execution_count": 17,
   "id": "e586ed7e",
   "metadata": {},
   "outputs": [
    {
     "name": "stdout",
     "output_type": "stream",
     "text": [
      "bytearray(b'Python harikadiA')\n"
     ]
    }
   ],
   "source": [
    "string = \"Python harikadir\"\n",
    "ba = bytearray(string, encoding=\"ascii\")\n",
    "ba[15] = 65\n",
    "print(ba)"
   ]
  },
  {
   "cell_type": "code",
   "execution_count": 18,
   "id": "c5ab0c8d",
   "metadata": {},
   "outputs": [
    {
     "name": "stdout",
     "output_type": "stream",
     "text": [
      "bytearray(b'\\x00\\x00\\x00\\x00\\x00')\n"
     ]
    }
   ],
   "source": [
    "i = 5\n",
    "ba = bytearray(i)\n",
    "print(ba)"
   ]
  },
  {
   "cell_type": "code",
   "execution_count": 19,
   "id": "dc7395dd",
   "metadata": {},
   "outputs": [
    {
     "name": "stdout",
     "output_type": "stream",
     "text": [
      "bytearray(b'\\x01\\x02\\x03')\n"
     ]
    }
   ],
   "source": [
    "arr = [1, 2, 3]\n",
    "ba = bytearray(arr)\n",
    "print(ba)"
   ]
  },
  {
   "cell_type": "code",
   "execution_count": null,
   "id": "dee7508b",
   "metadata": {},
   "outputs": [],
   "source": []
  },
  {
   "cell_type": "markdown",
   "id": "b535ff52",
   "metadata": {},
   "source": [
    "## class bytes([source[, encoding[, errors]]])\n",
    "- 0 <= x < 256 aralığında değişmez bir tamsayı dizisi olan yeni bir \"bayt\" nesnesi döndürün. bayt, bayt dizisinin değişmez bir sürümüdür - aynı mutasyona uğramayan yöntemlere ve aynı dizin oluşturma ve dilimleme davranışına sahiptir."
   ]
  },
  {
   "cell_type": "code",
   "execution_count": 20,
   "id": "dc73de16",
   "metadata": {},
   "outputs": [
    {
     "name": "stdout",
     "output_type": "stream",
     "text": [
      "b'Python harikadir'\n"
     ]
    }
   ],
   "source": [
    "string = \"Python harikadir\"\n",
    " \n",
    "ba = bytes(string, encoding=\"ascii\")\n",
    "print(ba)"
   ]
  },
  {
   "cell_type": "code",
   "execution_count": 22,
   "id": "1a6f73cc",
   "metadata": {},
   "outputs": [
    {
     "name": "stdout",
     "output_type": "stream",
     "text": [
      "b'\\x00\\x00\\x00\\x00\\x00'\n"
     ]
    }
   ],
   "source": [
    "i = 5\n",
    "ba = bytes(i)\n",
    "print(ba)"
   ]
  },
  {
   "cell_type": "code",
   "execution_count": null,
   "id": "32913246",
   "metadata": {},
   "outputs": [],
   "source": []
  },
  {
   "cell_type": "markdown",
   "id": "645a0977",
   "metadata": {},
   "source": [
    "https://docs.python.org/3/library/functions.html#aiter"
   ]
  },
  {
   "cell_type": "markdown",
   "id": "9d2a75e5",
   "metadata": {},
   "source": [
    "# callable(object)\n",
    "- Nesne bağımsız değişkeni çağrılabilir görünüyorsa True, değilse False döndürün. \n",
    "- Bu True değerini döndürürse, bir çağrının başarısız olması hala mümkündür, ancak False ise, çağıran nesne asla başarılı olmaz.\n",
    "- Sınıfların çağrılabilir olduğuna dikkat edin (bir sınıfın çağrılması yeni bir örnek döndürür); sınıflarında bir __call__() yöntemi varsa, örnekler çağrılabilir."
   ]
  },
  {
   "cell_type": "markdown",
   "id": "a46913bf",
   "metadata": {},
   "source": [
    "# chr(i)\n",
    "- Unicode kod noktası i tamsayısı olan bir karakteri temsil eden dizeyi döndürün. \n",
    "- Örneğin, chr(97) 'a' dizesini döndürürken chr(8364) '€' dizesini döndürür. Bu, ord()'un tersidir."
   ]
  },
  {
   "cell_type": "code",
   "execution_count": 2,
   "id": "9f15c295",
   "metadata": {},
   "outputs": [
    {
     "data": {
      "text/plain": [
       "'b'"
      ]
     },
     "execution_count": 2,
     "metadata": {},
     "output_type": "execute_result"
    }
   ],
   "source": [
    "chr(98)"
   ]
  },
  {
   "cell_type": "code",
   "execution_count": 3,
   "id": "f2ac3050",
   "metadata": {},
   "outputs": [
    {
     "data": {
      "text/plain": [
       "'B'"
      ]
     },
     "execution_count": 3,
     "metadata": {},
     "output_type": "execute_result"
    }
   ],
   "source": [
    "chr(66)"
   ]
  },
  {
   "cell_type": "markdown",
   "id": "c110ad41",
   "metadata": {},
   "source": [
    "# @classmethod\n",
    "- Bir yöntemi sınıf yöntemine dönüştürün\n",
    "- 3.10 sürümünde asılı kaldı: Sınıf yöntemleri artık yöntem niteliklerini (__module__, __name__, __qualname__, __doc__ ve __annotations__) devralıyor ve yeni bir __wrapped__ niteliğine sahip."
   ]
  },
  {
   "cell_type": "code",
   "execution_count": 4,
   "id": "68bf766a",
   "metadata": {},
   "outputs": [
    {
     "ename": "IndentationError",
     "evalue": "expected an indented block (1056210665.py, line 3)",
     "output_type": "error",
     "traceback": [
      "\u001b[1;36m  Input \u001b[1;32mIn [4]\u001b[1;36m\u001b[0m\n\u001b[1;33m    def f(cls, arg1, arg2):\u001b[0m\n\u001b[1;37m                           ^\u001b[0m\n\u001b[1;31mIndentationError\u001b[0m\u001b[1;31m:\u001b[0m expected an indented block\n"
     ]
    }
   ],
   "source": [
    "class C:\n",
    "    @classmethod\n",
    "    def f(cls, arg1, arg2):"
   ]
  },
  {
   "cell_type": "markdown",
   "id": "d7184c37",
   "metadata": {},
   "source": [
    "# round()\n",
    "- round() fonksiyonu bir sayıyı belirli ölçütlere göre yukarı veya aşağı doğru yuvarlamamızı sağlar."
   ]
  },
  {
   "cell_type": "code",
   "execution_count": 6,
   "id": "f701d22c",
   "metadata": {},
   "outputs": [
    {
     "data": {
      "text/plain": [
       "12"
      ]
     },
     "execution_count": 6,
     "metadata": {},
     "output_type": "execute_result"
    }
   ],
   "source": [
    "round(12.4)"
   ]
  },
  {
   "cell_type": "code",
   "execution_count": 7,
   "id": "2886046a",
   "metadata": {},
   "outputs": [
    {
     "data": {
      "text/plain": [
       "13"
      ]
     },
     "execution_count": 7,
     "metadata": {},
     "output_type": "execute_result"
    }
   ],
   "source": [
    "round(12.6)"
   ]
  },
  {
   "cell_type": "code",
   "execution_count": 8,
   "id": "5c7bc214",
   "metadata": {},
   "outputs": [
    {
     "data": {
      "text/plain": [
       "2"
      ]
     },
     "execution_count": 8,
     "metadata": {},
     "output_type": "execute_result"
    }
   ],
   "source": [
    "round(1.5)"
   ]
  },
  {
   "cell_type": "code",
   "execution_count": 9,
   "id": "e05033ad",
   "metadata": {},
   "outputs": [
    {
     "data": {
      "text/plain": [
       "2"
      ]
     },
     "execution_count": 9,
     "metadata": {},
     "output_type": "execute_result"
    }
   ],
   "source": [
    "round(12/7)"
   ]
  },
  {
   "cell_type": "markdown",
   "id": "c645bb27",
   "metadata": {},
   "source": [
    "# repr()\n",
    "- Bu fonksiyon ASCII olmayan karakterlerle karşılaşsa bile, bize çıktı olarak bunların da karakter karşılıklarını gösterir."
   ]
  },
  {
   "cell_type": "code",
   "execution_count": 12,
   "id": "7c0856c4",
   "metadata": {},
   "outputs": [
    {
     "data": {
      "text/plain": [
       "\"'şeker'\""
      ]
     },
     "execution_count": 12,
     "metadata": {},
     "output_type": "execute_result"
    }
   ],
   "source": [
    "repr(\"şeker\")"
   ]
  },
  {
   "cell_type": "markdown",
   "id": "49932fcd",
   "metadata": {},
   "source": [
    "# list()\n",
    "- Bu fonksiyon iki farklı amaç için kullanılabilir\n",
    "\n",
    "1. Liste tipinde bir veri oluşturmak\n",
    "\n",
    "2. Farklı veri tiplerini liste adlı veri tipine dönüştürmek"
   ]
  },
  {
   "cell_type": "code",
   "execution_count": 13,
   "id": "61411436",
   "metadata": {},
   "outputs": [],
   "source": [
    "i =list()"
   ]
  },
  {
   "cell_type": "code",
   "execution_count": 14,
   "id": "5fa78ae9",
   "metadata": {},
   "outputs": [
    {
     "data": {
      "text/plain": [
       "['e', 'r', 'h', 'a', 'n']"
      ]
     },
     "execution_count": 14,
     "metadata": {},
     "output_type": "execute_result"
    }
   ],
   "source": [
    "list(\"erhan\")"
   ]
  },
  {
   "cell_type": "code",
   "execution_count": 15,
   "id": "e87be282",
   "metadata": {},
   "outputs": [
    {
     "data": {
      "text/plain": [
       "['elma', 'armut', 'erik']"
      ]
     },
     "execution_count": 15,
     "metadata": {},
     "output_type": "execute_result"
    }
   ],
   "source": [
    "s = {'elma': 44, 'armut': 10, 'erik': 100}\n",
    "list(s)"
   ]
  },
  {
   "cell_type": "code",
   "execution_count": 18,
   "id": "fd6b1b17",
   "metadata": {},
   "outputs": [
    {
     "data": {
      "text/plain": [
       "[44, 10, 100]"
      ]
     },
     "execution_count": 18,
     "metadata": {},
     "output_type": "execute_result"
    }
   ],
   "source": [
    "list(s.values())"
   ]
  },
  {
   "cell_type": "markdown",
   "id": "f7521766",
   "metadata": {},
   "source": [
    "# set()\n",
    "- küme işlemleri ve dönüşümleri yapar."
   ]
  },
  {
   "cell_type": "code",
   "execution_count": 19,
   "id": "82382af5",
   "metadata": {},
   "outputs": [],
   "source": [
    "k =set()"
   ]
  },
  {
   "cell_type": "code",
   "execution_count": 20,
   "id": "4b127000",
   "metadata": {},
   "outputs": [
    {
     "data": {
      "text/plain": [
       "{'e', 'r', 't', 'z'}"
      ]
     },
     "execution_count": 20,
     "metadata": {},
     "output_type": "execute_result"
    }
   ],
   "source": [
    "a = \"tezer\"\n",
    "set(a)"
   ]
  },
  {
   "cell_type": "markdown",
   "id": "32abe225",
   "metadata": {},
   "source": [
    "# tuple()\n",
    "- Bu fonksiyon farklı veri tiplerini demete dönüştürür:"
   ]
  },
  {
   "cell_type": "code",
   "execution_count": 21,
   "id": "7fcfa5e8",
   "metadata": {},
   "outputs": [],
   "source": [
    "j=tuple()"
   ]
  },
  {
   "cell_type": "code",
   "execution_count": 22,
   "id": "b2206a89",
   "metadata": {},
   "outputs": [
    {
     "data": {
      "text/plain": [
       "('a',)"
      ]
     },
     "execution_count": 22,
     "metadata": {},
     "output_type": "execute_result"
    }
   ],
   "source": [
    "tuple(\"a\")"
   ]
  },
  {
   "cell_type": "markdown",
   "id": "673bab35",
   "metadata": {},
   "source": [
    "https://python-istihza.yazbel.com/gomulu_fonksiyonlar.html"
   ]
  },
  {
   "cell_type": "markdown",
   "id": "a7aebc68",
   "metadata": {},
   "source": [
    "# frozenset()\n",
    "- farklı veri tiplerini dondurulmuş kümeye dönüştrür \n",
    "- şöyle set sürekli farklı sıralamada elaman çıkarırken frozenset ilk aldığı değeri döndürür"
   ]
  },
  {
   "cell_type": "code",
   "execution_count": 1,
   "id": "5b60fb0e",
   "metadata": {},
   "outputs": [
    {
     "data": {
      "text/plain": [
       "frozenset({'a', 'e', 'h', 'n', 'r', 't', 'z'})"
      ]
     },
     "execution_count": 1,
     "metadata": {},
     "output_type": "execute_result"
    }
   ],
   "source": [
    "s = set(\"erhantezer\")\n",
    "df = frozenset(s)\n",
    "df"
   ]
  },
  {
   "cell_type": "markdown",
   "id": "ec278562",
   "metadata": {},
   "source": [
    "# complex()\n",
    "- karmaşık sayıları ifade eder"
   ]
  },
  {
   "cell_type": "code",
   "execution_count": 2,
   "id": "59ff8b13",
   "metadata": {},
   "outputs": [
    {
     "data": {
      "text/plain": [
       "(12+0j)"
      ]
     },
     "execution_count": 2,
     "metadata": {},
     "output_type": "execute_result"
    }
   ],
   "source": [
    "12+0j"
   ]
  },
  {
   "cell_type": "code",
   "execution_count": 3,
   "id": "8de48edf",
   "metadata": {},
   "outputs": [
    {
     "data": {
      "text/plain": [
       "(15+0j)"
      ]
     },
     "execution_count": 3,
     "metadata": {},
     "output_type": "execute_result"
    }
   ],
   "source": [
    "complex(15)"
   ]
  },
  {
   "cell_type": "code",
   "execution_count": 4,
   "id": "2f4926f9",
   "metadata": {},
   "outputs": [
    {
     "data": {
      "text/plain": [
       "(15+2j)"
      ]
     },
     "execution_count": 4,
     "metadata": {},
     "output_type": "execute_result"
    }
   ],
   "source": [
    "complex(15, 2)"
   ]
  },
  {
   "cell_type": "markdown",
   "id": "600da0e4",
   "metadata": {},
   "source": [
    "# float()\n",
    "- sayıları ondalıklı sayıya çevirir"
   ]
  },
  {
   "cell_type": "code",
   "execution_count": 5,
   "id": "26715d4c",
   "metadata": {},
   "outputs": [
    {
     "data": {
      "text/plain": [
       "123.0"
      ]
     },
     "execution_count": 5,
     "metadata": {},
     "output_type": "execute_result"
    }
   ],
   "source": [
    "float(\"123\")"
   ]
  },
  {
   "cell_type": "code",
   "execution_count": 6,
   "id": "dedba8cc",
   "metadata": {},
   "outputs": [
    {
     "data": {
      "text/plain": [
       "12.0"
      ]
     },
     "execution_count": 6,
     "metadata": {},
     "output_type": "execute_result"
    }
   ],
   "source": [
    "float(12)"
   ]
  },
  {
   "cell_type": "markdown",
   "id": "5fd40f60",
   "metadata": {},
   "source": [
    "# int()\n",
    "- Bu fonksiyon birkaç farklı amaç için kullanılabilir. int() fonksiyonunun en temel görevi, bir karakter dizisi veya kayan noktalı sayıyı (eğer mümkünse) tam sayıya dönüştürmektir\n",
    "- Bunun dışında bu fonksiyonu, herhangi bir sayma sisteminde temsil edilen bir sayıyı onlu sayma sistemine dönüştürmek için de kullanabiliriz."
   ]
  },
  {
   "cell_type": "code",
   "execution_count": 7,
   "id": "df5f2a85",
   "metadata": {},
   "outputs": [
    {
     "data": {
      "text/plain": [
       "20"
      ]
     },
     "execution_count": 7,
     "metadata": {},
     "output_type": "execute_result"
    }
   ],
   "source": [
    "int(\"20\")"
   ]
  },
  {
   "cell_type": "code",
   "execution_count": 8,
   "id": "d44e5166",
   "metadata": {},
   "outputs": [
    {
     "data": {
      "text/plain": [
       "12"
      ]
     },
     "execution_count": 8,
     "metadata": {},
     "output_type": "execute_result"
    }
   ],
   "source": [
    "int(12.4)"
   ]
  },
  {
   "cell_type": "code",
   "execution_count": 9,
   "id": "0ae56063",
   "metadata": {},
   "outputs": [
    {
     "data": {
      "text/plain": [
       "12"
      ]
     },
     "execution_count": 9,
     "metadata": {},
     "output_type": "execute_result"
    }
   ],
   "source": [
    "int(12.6)"
   ]
  },
  {
   "cell_type": "code",
   "execution_count": 11,
   "id": "d56cb957",
   "metadata": {},
   "outputs": [
    {
     "data": {
      "text/plain": [
       "10"
      ]
     },
     "execution_count": 11,
     "metadata": {},
     "output_type": "execute_result"
    }
   ],
   "source": [
    "int(\"12\", 8)     # 8**0 * 2 + 8**1 * 1"
   ]
  },
  {
   "cell_type": "markdown",
   "id": "3a2b57c4",
   "metadata": {},
   "source": [
    "# str()\n",
    "- Bu fonksiyonun, farklı veri tiplerini karakter dizisine dönüştürmek için kullanılır"
   ]
  },
  {
   "cell_type": "code",
   "execution_count": 12,
   "id": "c1dab12d",
   "metadata": {},
   "outputs": [
    {
     "data": {
      "text/plain": [
       "'12'"
      ]
     },
     "execution_count": 12,
     "metadata": {},
     "output_type": "execute_result"
    }
   ],
   "source": [
    "str(12)"
   ]
  },
  {
   "cell_type": "code",
   "execution_count": 13,
   "id": "aceaf48d",
   "metadata": {},
   "outputs": [],
   "source": [
    "bayt = b\"erhan\""
   ]
  },
  {
   "cell_type": "code",
   "execution_count": 14,
   "id": "8ab89024",
   "metadata": {},
   "outputs": [
    {
     "name": "stdout",
     "output_type": "stream",
     "text": [
      "erhan\n"
     ]
    }
   ],
   "source": [
    "a = str(bayt, encoding=\"utf-8\")\n",
    "print(a)"
   ]
  },
  {
   "cell_type": "code",
   "execution_count": 15,
   "id": "6b229688",
   "metadata": {},
   "outputs": [
    {
     "name": "stdout",
     "output_type": "stream",
     "text": [
      "b'kad\\xc4\\xb1n'\n"
     ]
    }
   ],
   "source": [
    "bayt = bytes('kadın', encoding='utf-8')\n",
    "print(bayt)"
   ]
  },
  {
   "cell_type": "markdown",
   "id": "b964220f",
   "metadata": {},
   "source": [
    "# dict()\n",
    "- Bu fonksiyon, farklı veri tiplerinden sözlükler üretmemizi sağlar"
   ]
  },
  {
   "cell_type": "code",
   "execution_count": 1,
   "id": "12c0a60c",
   "metadata": {},
   "outputs": [],
   "source": [
    "s = dict()"
   ]
  },
  {
   "cell_type": "code",
   "execution_count": 2,
   "id": "2b780e9d",
   "metadata": {},
   "outputs": [],
   "source": [
    "s = dict(a=1, b=2, c=3)"
   ]
  },
  {
   "cell_type": "code",
   "execution_count": 3,
   "id": "3b2bcbf3",
   "metadata": {},
   "outputs": [
    {
     "data": {
      "text/plain": [
       "{'a': 1, 'b': 2, 'c': 3}"
      ]
     },
     "execution_count": 3,
     "metadata": {},
     "output_type": "execute_result"
    }
   ],
   "source": [
    "s"
   ]
  },
  {
   "cell_type": "code",
   "execution_count": 4,
   "id": "5a1dfb5f",
   "metadata": {},
   "outputs": [
    {
     "data": {
      "text/plain": [
       "{'a': 1, 'b': 2, 'c': 3}"
      ]
     },
     "execution_count": 4,
     "metadata": {},
     "output_type": "execute_result"
    }
   ],
   "source": [
    "öğeler = (['a', 1], ['b', 2], ['c', 3])\n",
    "dict(öğeler)"
   ]
  },
  {
   "cell_type": "markdown",
   "id": "668434c3",
   "metadata": {},
   "source": [
    "# callable()\n",
    "- Bu fonksiyon, bir nesnenin ‘çağrılabilir’ olup olmadığını denetler. Peki hangi nesneler çağrılabilir özelliktedir. Mesela fonksiyonlar çağrılabilir nesnelerdir. Değişkenler ise çağrılabilir nesneler değildir."
   ]
  },
  {
   "cell_type": "code",
   "execution_count": 6,
   "id": "46b14cea",
   "metadata": {},
   "outputs": [
    {
     "data": {
      "text/plain": [
       "True"
      ]
     },
     "execution_count": 6,
     "metadata": {},
     "output_type": "execute_result"
    }
   ],
   "source": [
    "callable(open)"
   ]
  },
  {
   "cell_type": "code",
   "execution_count": 7,
   "id": "4db6d595",
   "metadata": {},
   "outputs": [
    {
     "data": {
      "text/plain": [
       "False"
      ]
     },
     "execution_count": 7,
     "metadata": {},
     "output_type": "execute_result"
    }
   ],
   "source": [
    "import sys\n",
    "callable(sys.version)"
   ]
  },
  {
   "cell_type": "markdown",
   "id": "1793bd10",
   "metadata": {},
   "source": [
    "- Burada da sys modülü içindeki version adlı nesnenin çağrılabilir özellikte olup olmadığını sorguladık. Daha önceki derslerimizde de gördüğünüz gibi, sys modülü içindeki version adlı araç bir fonksiyon değil, değişkendir. Dolayısıyla bu değişken callable(sys.version) sorgusuna False yanıtı verir"
   ]
  },
  {
   "cell_type": "markdown",
   "id": "1ab62a2c",
   "metadata": {},
   "source": [
    "# ord()\n",
    "- Bu fonksiyon, bir karakterin karşılık geldiği ASCII sıralamasını verir."
   ]
  },
  {
   "cell_type": "code",
   "execution_count": 2,
   "id": "579ca215",
   "metadata": {},
   "outputs": [
    {
     "data": {
      "text/plain": [
       "97"
      ]
     },
     "execution_count": 2,
     "metadata": {},
     "output_type": "execute_result"
    }
   ],
   "source": [
    "ord(\"a\")"
   ]
  },
  {
   "cell_type": "code",
   "execution_count": 3,
   "id": "3c0f9cff",
   "metadata": {},
   "outputs": [
    {
     "data": {
      "text/plain": [
       "305"
      ]
     },
     "execution_count": 3,
     "metadata": {},
     "output_type": "execute_result"
    }
   ],
   "source": [
    "ord(\"ı\")"
   ]
  },
  {
   "cell_type": "markdown",
   "id": "9cd1197d",
   "metadata": {},
   "source": [
    "# oct()\n",
    "- Bu fonksiyon, bir sayıyı sekizli düzendeki karşılığına çevirmemizi sağlar"
   ]
  },
  {
   "cell_type": "code",
   "execution_count": 4,
   "id": "eba33c76",
   "metadata": {},
   "outputs": [
    {
     "data": {
      "text/plain": [
       "'0o12'"
      ]
     },
     "execution_count": 4,
     "metadata": {},
     "output_type": "execute_result"
    }
   ],
   "source": [
    "oct(10)"
   ]
  },
  {
   "cell_type": "markdown",
   "id": "64702636",
   "metadata": {},
   "source": [
    "# hex()\n",
    "- Bu fonksiyon, bir sayıyı onaltılı düzendeki karşılığına çevirmemizi sağlar"
   ]
  },
  {
   "cell_type": "code",
   "execution_count": 5,
   "id": "e87fcbd5",
   "metadata": {},
   "outputs": [
    {
     "data": {
      "text/plain": [
       "'0x131'"
      ]
     },
     "execution_count": 5,
     "metadata": {},
     "output_type": "execute_result"
    }
   ],
   "source": [
    "hex(305)"
   ]
  },
  {
   "cell_type": "code",
   "execution_count": 1,
   "id": "dfe7884a",
   "metadata": {},
   "outputs": [
    {
     "data": {
      "text/plain": [
       "'0x7c'"
      ]
     },
     "execution_count": 1,
     "metadata": {},
     "output_type": "execute_result"
    }
   ],
   "source": [
    "hex(124)"
   ]
  },
  {
   "cell_type": "markdown",
   "id": "34df2982",
   "metadata": {},
   "source": [
    "- Yalnız hem oct() hem de hex() fonksiyonlarında dikkat etmemiz gereken şey, bu fonksiyonların parametre olarak bir sayı alıp, çıktı olarak bir karakter dizisi veriyor olmasıdır."
   ]
  },
  {
   "cell_type": "markdown",
   "id": "88a6d824",
   "metadata": {},
   "source": [
    "# eval(), exec(), globals(), locals(), compile()"
   ]
  },
  {
   "cell_type": "markdown",
   "id": "3bff7ea9",
   "metadata": {},
   "source": [
    "Ancak bu fonksiyonlardan söz etmeye başlamadan önce Python’daki iki önemli kavramı açıklığa kavuşturmamız gerekiyor: Bu kavramlar şunlar:\n",
    "\n",
    "1) ifade\n",
    "\n",
    "2) deyim\n",
    "\n",
    "Öncelikle ‘ifade’ kavramından başlayalım.\n",
    "\n",
    "İngilizcede expression denen ‘ifadeler’, bir değer üretmek için kullanılan kod parçalarıdır. Karakter dizileri, sayılar, işleçler, öteki veri tipleri, liste üreteçleri, sözlük üreteçleri, küme üreteçleri, fonksiyonlar hep birer ifadedir."
   ]
  },
  {
   "cell_type": "markdown",
   "id": "58e71cfc",
   "metadata": {},
   "source": [
    "5\n",
    "\n",
    "23 + 4\n",
    "\n",
    "[i for i in range(10)]\n",
    "\n",
    "len([1, 2, 3]) bunlar ifadedir"
   ]
  },
  {
   "cell_type": "markdown",
   "id": "7b30b0b4",
   "metadata": {},
   "source": [
    "İngilizcede statement olarak adlandırılan ‘deyimler’ ise ifadeleri de kapsayan daha geniş bir kavramdır. Buna göre bütün ifadeler aynı zamanda birer deyimdir. Daha doğrusu, ifadelerin bir araya gelmesi ile deyimler oluşturulabilir."
   ]
  },
  {
   "cell_type": "markdown",
   "id": "dd4eb4ec",
   "metadata": {},
   "source": [
    "```python \n",
    "a = 5\n",
    "\n",
    "if a:\n",
    "    print(a)\n",
    "\n",
    "for i in range(10):\n",
    "    print(i)     \n",
    "```     bunlar deyimdir"
   ]
  },
  {
   "cell_type": "markdown",
   "id": "f2165413",
   "metadata": {},
   "source": [
    "Python programlama dilinde deyimlerle ifadeleri ayırt etmenin kolay bir yolu da eval() fonksiyonundan yararlanmaktır. Eğer deyim mi yoksa ifade mi olduğundan emin olamadığınız bir şeyi eval() fonksiyonuna parametre olarak verdiğinizde hata almıyorsanız o parametre bir ifadedir. Eğer hata alıyorsanız o parametre bir deyimdir. Çünkü eval() fonksiyonuna parametre olarak yalnızca ifadeler verilebilir."
   ]
  },
  {
   "cell_type": "code",
   "execution_count": 1,
   "id": "df158d67",
   "metadata": {},
   "outputs": [
    {
     "ename": "SyntaxError",
     "evalue": "invalid syntax (<string>, line 1)",
     "output_type": "error",
     "traceback": [
      "Traceback \u001b[1;36m(most recent call last)\u001b[0m:\n",
      "  File \u001b[0;32m~\\AppData\\Local\\Packages\\PythonSoftwareFoundation.Python.3.9_qbz5n2kfra8p0\\LocalCache\\local-packages\\Python39\\site-packages\\IPython\\core\\interactiveshell.py:3251\u001b[0m in \u001b[0;35mrun_code\u001b[0m\n    exec(code_obj, self.user_global_ns, self.user_ns)\n",
      "\u001b[1;36m  Input \u001b[1;32mIn [1]\u001b[1;36m in \u001b[1;35m<module>\u001b[1;36m\u001b[0m\n\u001b[1;33m    eval('a = 5')\u001b[0m\n",
      "\u001b[1;36m  File \u001b[1;32m<string>:1\u001b[1;36m\u001b[0m\n\u001b[1;33m    a = 5\u001b[0m\n\u001b[1;37m      ^\u001b[0m\n\u001b[1;31mSyntaxError\u001b[0m\u001b[1;31m:\u001b[0m invalid syntax\n"
     ]
    }
   ],
   "source": [
    "eval('a = 5')"
   ]
  },
  {
   "cell_type": "code",
   "execution_count": 2,
   "id": "8a862290",
   "metadata": {},
   "outputs": [
    {
     "data": {
      "text/plain": [
       "30"
      ]
     },
     "execution_count": 2,
     "metadata": {},
     "output_type": "execute_result"
    }
   ],
   "source": [
    "eval(\"5+25\")"
   ]
  },
  {
   "cell_type": "markdown",
   "id": "e65740c2",
   "metadata": {},
   "source": [
    "https://python-istihza.yazbel.com/gomulu_fonksiyonlar.html"
   ]
  },
  {
   "cell_type": "markdown",
   "id": "02dc03d0",
   "metadata": {},
   "source": [
    "Dediğimiz gibi, eval() fonksiyonu deyimleri parametre olarak alamaz. Ama exec() fonksiyonu alabilir:"
   ]
  },
  {
   "cell_type": "code",
   "execution_count": 1,
   "id": "3456204c",
   "metadata": {},
   "outputs": [],
   "source": [
    "exec('a=5')"
   ]
  },
  {
   "cell_type": "code",
   "execution_count": 2,
   "id": "18bf7fda",
   "metadata": {},
   "outputs": [
    {
     "name": "stdout",
     "output_type": "stream",
     "text": [
      "5\n"
     ]
    }
   ],
   "source": [
    "print(a)"
   ]
  },
  {
   "cell_type": "markdown",
   "id": "218d5985",
   "metadata": {},
   "source": [
    "Global isim alanını gösteren sözlükte hangi anahtar ve değerlerin olduğunu görmek için globals() adlı bir fonksiyonu kullanabilirsiniz:\n",
    "\n"
   ]
  },
  {
   "cell_type": "code",
   "execution_count": 5,
   "id": "37a277a8",
   "metadata": {},
   "outputs": [
    {
     "data": {
      "text/plain": [
       "{'__name__': '__main__',\n",
       " '__doc__': 'Automatically created module for IPython interactive environment',\n",
       " '__package__': None,\n",
       " '__loader__': None,\n",
       " '__spec__': None,\n",
       " '__builtin__': <module 'builtins' (built-in)>,\n",
       " '__builtins__': <module 'builtins' (built-in)>,\n",
       " '_ih': ['',\n",
       "  \"exec('a=5')\",\n",
       "  'print(a)',\n",
       "  'globals()',\n",
       "  'print(globals())',\n",
       "  'globals()'],\n",
       " '_oh': {3: {...}},\n",
       " '_dh': [WindowsPath('c:/Users/hp/Desktop/GİT/Python-Notlar')],\n",
       " 'In': ['',\n",
       "  \"exec('a=5')\",\n",
       "  'print(a)',\n",
       "  'globals()',\n",
       "  'print(globals())',\n",
       "  'globals()'],\n",
       " 'Out': {3: {...}},\n",
       " 'get_ipython': <bound method InteractiveShell.get_ipython of <ipykernel.zmqshell.ZMQInteractiveShell object at 0x000001AEDAC705E0>>,\n",
       " 'exit': <IPython.core.autocall.ZMQExitAutocall at 0x1aeda9bf250>,\n",
       " 'quit': <IPython.core.autocall.ZMQExitAutocall at 0x1aeda9bf250>,\n",
       " '_': {...},\n",
       " '__': '',\n",
       " '___': '',\n",
       " 'site': <module 'site' from 'C:\\\\Program Files\\\\WindowsApps\\\\PythonSoftwareFoundation.Python.3.9_3.9.3312.0_x64__qbz5n2kfra8p0\\\\lib\\\\site.py'>,\n",
       " 'os': <module 'os' from 'C:\\\\Program Files\\\\WindowsApps\\\\PythonSoftwareFoundation.Python.3.9_3.9.3312.0_x64__qbz5n2kfra8p0\\\\lib\\\\os.py'>,\n",
       " 'sys': <module 'sys' (built-in)>,\n",
       " '__vsc_ipynb_file__': 'c:\\\\Users\\\\hp\\\\Desktop\\\\GİT\\\\Python-Notlar\\\\Builtin_Functions.ipynb',\n",
       " '_i': 'print(globals())',\n",
       " '_ii': 'globals()',\n",
       " '_iii': 'print(a)',\n",
       " '_i1': \"exec('a=5')\",\n",
       " 'a': 5,\n",
       " '_i2': 'print(a)',\n",
       " '_i3': 'globals()',\n",
       " '_3': {...},\n",
       " '_i4': 'print(globals())',\n",
       " '_i5': 'globals()'}"
      ]
     },
     "execution_count": 5,
     "metadata": {},
     "output_type": "execute_result"
    }
   ],
   "source": [
    "globals()"
   ]
  },
  {
   "cell_type": "code",
   "execution_count": 4,
   "id": "2e7d2846",
   "metadata": {},
   "outputs": [
    {
     "name": "stdout",
     "output_type": "stream",
     "text": [
      "{'__name__': '__main__', '__doc__': 'Automatically created module for IPython interactive environment', '__package__': None, '__loader__': None, '__spec__': None, '__builtin__': <module 'builtins' (built-in)>, '__builtins__': <module 'builtins' (built-in)>, '_ih': ['', \"exec('a=5')\", 'print(a)', 'globals()', 'print(globals())'], '_oh': {3: {...}}, '_dh': [WindowsPath('c:/Users/hp/Desktop/GİT/Python-Notlar')], 'In': ['', \"exec('a=5')\", 'print(a)', 'globals()', 'print(globals())'], 'Out': {3: {...}}, 'get_ipython': <bound method InteractiveShell.get_ipython of <ipykernel.zmqshell.ZMQInteractiveShell object at 0x000001AEDAC705E0>>, 'exit': <IPython.core.autocall.ZMQExitAutocall object at 0x000001AEDA9BF250>, 'quit': <IPython.core.autocall.ZMQExitAutocall object at 0x000001AEDA9BF250>, '_': {...}, '__': '', '___': '', 'site': <module 'site' from 'C:\\\\Program Files\\\\WindowsApps\\\\PythonSoftwareFoundation.Python.3.9_3.9.3312.0_x64__qbz5n2kfra8p0\\\\lib\\\\site.py'>, 'os': <module 'os' from 'C:\\\\Program Files\\\\WindowsApps\\\\PythonSoftwareFoundation.Python.3.9_3.9.3312.0_x64__qbz5n2kfra8p0\\\\lib\\\\os.py'>, 'sys': <module 'sys' (built-in)>, '__vsc_ipynb_file__': 'c:\\\\Users\\\\hp\\\\Desktop\\\\GİT\\\\Python-Notlar\\\\Builtin_Functions.ipynb', '_i': 'globals()', '_ii': 'print(a)', '_iii': \"exec('a=5')\", '_i1': \"exec('a=5')\", 'a': 5, '_i2': 'print(a)', '_i3': 'globals()', '_3': {...}, '_i4': 'print(globals())'}\n"
     ]
    }
   ],
   "source": [
    "print(globals())"
   ]
  },
  {
   "cell_type": "markdown",
   "id": "ff97406a",
   "metadata": {},
   "source": [
    "Dediğimiz gibi, globals() fonksiyonundan dönen nesne bir sözlüktür. Bu sözlüğe, herhangi bir sözlüğe veri ekler gibi değer de ekleyebilirsiniz:"
   ]
  },
  {
   "cell_type": "code",
   "execution_count": 6,
   "id": "378f2a33",
   "metadata": {},
   "outputs": [],
   "source": [
    "globals()['z'] = 23"
   ]
  },
  {
   "cell_type": "code",
   "execution_count": 7,
   "id": "a85ffdc2",
   "metadata": {},
   "outputs": [
    {
     "data": {
      "text/plain": [
       "23"
      ]
     },
     "execution_count": 7,
     "metadata": {},
     "output_type": "execute_result"
    }
   ],
   "source": [
    "z"
   ]
  },
  {
   "cell_type": "markdown",
   "id": "c93c05ae",
   "metadata": {},
   "source": [
    "Bildiğiniz gibi, Python’da global isim alanı dışında bir de lokal isim alanı bulunur.\n",
    "Lokal isim alanlarının, fonksiyonlara (ve ileride göreceğimiz gibi sınıflara) ait bir isim alanı olduğunu biliyorsunuz.\n",
    "İşte bu isim alanlarına ulaşmak için de locals() adlı bir fonksiyondan yararlanacağız:"
   ]
  },
  {
   "cell_type": "code",
   "execution_count": 8,
   "id": "9370750a",
   "metadata": {},
   "outputs": [
    {
     "name": "stdout",
     "output_type": "stream",
     "text": [
      "{'param1': 10, 'param2': 20, 'x': 10}\n"
     ]
    }
   ],
   "source": [
    "def fonksiyon(param1, param2):\n",
    "    x = 10\n",
    "    print(locals())\n",
    "\n",
    "fonksiyon(10, 20)"
   ]
  },
  {
   "cell_type": "code",
   "execution_count": null,
   "id": "e603085e",
   "metadata": {},
   "outputs": [],
   "source": []
  },
  {
   "cell_type": "code",
   "execution_count": null,
   "id": "328ddcbb",
   "metadata": {},
   "outputs": [],
   "source": []
  },
  {
   "cell_type": "code",
   "execution_count": null,
   "id": "4f0ea316",
   "metadata": {},
   "outputs": [],
   "source": []
  },
  {
   "cell_type": "code",
   "execution_count": null,
   "id": "ce5fafc0",
   "metadata": {},
   "outputs": [],
   "source": []
  },
  {
   "cell_type": "code",
   "execution_count": null,
   "id": "8f3df6a5",
   "metadata": {},
   "outputs": [],
   "source": []
  }
 ],
 "metadata": {
  "kernelspec": {
   "display_name": "Python 3 (ipykernel)",
   "language": "python",
   "name": "python3"
  },
  "language_info": {
   "codemirror_mode": {
    "name": "ipython",
    "version": 3
   },
   "file_extension": ".py",
   "mimetype": "text/x-python",
   "name": "python",
   "nbconvert_exporter": "python",
   "pygments_lexer": "ipython3",
   "version": "3.9.12"
  }
 },
 "nbformat": 4,
 "nbformat_minor": 5
}
