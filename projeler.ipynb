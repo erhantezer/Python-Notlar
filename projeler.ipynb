{
 "cells": [
  {
   "cell_type": "markdown",
   "metadata": {},
   "source": [
    "# Letter Counter"
   ]
  },
  {
   "cell_type": "code",
   "execution_count": 5,
   "metadata": {},
   "outputs": [
    {
     "name": "stdout",
     "output_type": "stream",
     "text": [
      "erhan bize gel\n",
      "{'e': 3, 'r': 1, 'h': 1, 'a': 1, 'n': 1, ' ': 2, 'b': 1, 'i': 1, 'z': 1, 'g': 1, 'l': 1}\n"
     ]
    }
   ],
   "source": [
    "text = input()\n",
    "print(text)\n",
    "dict = {}\n",
    "for char in text:\n",
    "    if char in dict:\n",
    "        dict[char] += 1\n",
    "    else:\n",
    "        dict[char] = 1\n",
    "print(dict)"
   ]
  },
  {
   "cell_type": "code",
   "execution_count": 6,
   "metadata": {},
   "outputs": [
    {
     "name": "stdout",
     "output_type": "stream",
     "text": [
      "erhan bize gel\n",
      "{'e': 3, 'r': 1, 'h': 1, 'a': 1, 'n': 1, ' ': 2, 'b': 1, 'i': 1, 'z': 1, 'g': 1, 'l': 1}\n"
     ]
    }
   ],
   "source": [
    "text = input()\n",
    "dict = {}\n",
    "print(text)\n",
    "for t in text:\n",
    "    dict[t] = text.count(t)\n",
    "\n",
    "print(dict)"
   ]
  },
  {
   "cell_type": "code",
   "execution_count": null,
   "metadata": {},
   "outputs": [],
   "source": []
  }
 ],
 "metadata": {
  "interpreter": {
   "hash": "13f4a54aee769ce1f6a95b199c3ef951f75a08533487f5ee2cf4a2793d8e80f2"
  },
  "kernelspec": {
   "display_name": "Python 3.9.10 64-bit (windows store)",
   "language": "python",
   "name": "python3"
  },
  "language_info": {
   "codemirror_mode": {
    "name": "ipython",
    "version": 3
   },
   "file_extension": ".py",
   "mimetype": "text/x-python",
   "name": "python",
   "nbconvert_exporter": "python",
   "pygments_lexer": "ipython3",
   "version": "3.9.10"
  },
  "orig_nbformat": 4
 },
 "nbformat": 4,
 "nbformat_minor": 2
}
